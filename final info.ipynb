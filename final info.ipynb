{
 "cells": [
  {
   "cell_type": "code",
   "execution_count": 1,
   "id": "49bf8dd3-3440-40dd-a6c7-8606a1ab6c0d",
   "metadata": {},
   "outputs": [],
   "source": [
    "# Import Libraries\n",
    "import pandas as pd\n",
    "import time\n",
    "from random import randint\n",
    "from IPython.display import clear_output\n",
    "import os\n",
    " \n",
    "import selenium\n",
    "from selenium import webdriver\n",
    "from selenium.webdriver.common.by import By\n",
    "from selenium.webdriver.support.ui import WebDriverWait\n",
    "from selenium.webdriver.support import expected_conditions as EC\n",
    "from selenium.webdriver.common.keys import Keys\n",
    "from selenium.common.exceptions import NoSuchElementException"
   ]
  },
  {
   "cell_type": "code",
   "execution_count": 2,
   "id": "2cf3ad69-b480-43ad-b85e-1f8894d6a1f9",
   "metadata": {},
   "outputs": [
    {
     "name": "stdout",
     "output_type": "stream",
     "text": [
      "Enter file name:  remaining_links/network_engineer\n"
     ]
    }
   ],
   "source": [
    "# Gather saved links\n",
    "file_name = input(\"Enter file name: \") + '_offers.csv'"
   ]
  },
  {
   "cell_type": "code",
   "execution_count": 3,
   "id": "e8a45d64-42f4-4e77-951c-cfbf8eadd243",
   "metadata": {},
   "outputs": [],
   "source": [
    "links_df = pd.read_csv(file_name)"
   ]
  },
  {
   "cell_type": "code",
   "execution_count": 4,
   "id": "cac79ec7-2960-4309-9b5c-75b68a017f1c",
   "metadata": {},
   "outputs": [
    {
     "data": {
      "text/plain": [
       "(69, 1)"
      ]
     },
     "execution_count": 4,
     "metadata": {},
     "output_type": "execute_result"
    }
   ],
   "source": [
    "links_df.shape"
   ]
  },
  {
   "cell_type": "code",
   "execution_count": 5,
   "id": "9f0613e6-912e-4336-8659-4a49a6beb129",
   "metadata": {},
   "outputs": [],
   "source": [
    "# Login credentials\n",
    "\n",
    "with open('config.txt', 'r') as file:\n",
    "    email, password = file.readlines()"
   ]
  },
  {
   "cell_type": "code",
   "execution_count": 6,
   "id": "9f3bb153-c78f-44fb-8773-68e53a047b60",
   "metadata": {},
   "outputs": [
    {
     "name": "stderr",
     "output_type": "stream",
     "text": [
      "/var/folders/4y/pcdt74h51_x2zz4w3hlpvzxh0000gn/T/ipykernel_59241/1557696076.py:4: DeprecationWarning: executable_path has been deprecated, please pass in a Service object\n",
      "  driver = webdriver.Chrome(path)\n"
     ]
    }
   ],
   "source": [
    "# Login to LinkedIn\n",
    "\n",
    "path = '/Users/kritixblaze/Developer/chromedriver_mac64/chromedriver'\n",
    "driver = webdriver.Chrome(path)"
   ]
  },
  {
   "cell_type": "code",
   "execution_count": 7,
   "id": "c976f8ae-d9d7-428e-a394-1e166fe4c820",
   "metadata": {},
   "outputs": [],
   "source": [
    "driver.maximize_window() \n",
    "driver.minimize_window()\n",
    "driver.switch_to.window(driver.current_window_handle)\n",
    "driver.implicitly_wait(10)"
   ]
  },
  {
   "cell_type": "code",
   "execution_count": 8,
   "id": "63e63536-9b01-4d57-ae0d-b569e524b2d8",
   "metadata": {},
   "outputs": [],
   "source": [
    "# Enter to the site\n",
    "driver.get('https://www.linkedin.com/login')\n",
    "time.sleep(2)\n",
    "\n",
    "# User Credentials\n",
    "driver.find_element('xpath', '//*[@id=\"username\"]').send_keys(email[:-1])\n",
    "driver.find_element('xpath', '//*[@id=\"password\"]').send_keys(password)\n",
    "time.sleep(1)\n",
    "\n",
    "# Login button\n",
    "driver.find_element('xpath', '//*[@id=\"organic-div\"]/form/div[3]/button').click()\n",
    "driver.implicitly_wait(30)"
   ]
  },
  {
   "cell_type": "code",
   "execution_count": 9,
   "id": "17a60b27-de04-4e50-ad43-34dd1432dd09",
   "metadata": {},
   "outputs": [],
   "source": [
    "# Function to collect info from links\n",
    "def collect_info(link):\n",
    "    driver.get(link)\n",
    "    wait_time = randint(1, 4)\n",
    "    clear_output(wait=True)\n",
    "    print(f\"Waiting {wait_time} seconds\\n\")\n",
    "    time.sleep(wait_time)\n",
    "    \n",
    "    contents = driver.find_elements('class name', 'p5')\n",
    "    \n",
    "    if len(contents) > 0:\n",
    "        \n",
    "        if contents[0].text == 'Show more results':\n",
    "            current_index = shuffled_df[shuffled_df['0'] == link].index[0] \n",
    "            print(f\"{current_index}. Posting deleted\")\n",
    "            shuffled_df.drop(current_index, inplace=True)\n",
    "            \n",
    "        else:\n",
    "            try:\n",
    "                info = {}\n",
    "\n",
    "                try:\n",
    "                    info['Job Title'] = contents[0].find_element('tag name', 'h1').text\n",
    "\n",
    "                except NoSuchElementException:\n",
    "                    info['Job Title'] = \"N/A\"\n",
    "\n",
    "                try:\n",
    "                    info['Job Posting Link'] = link\n",
    "\n",
    "                except NoSuchElementException:\n",
    "                    info['Job Posting Link'] = \"N/A\"\n",
    "            \n",
    "                try:\n",
    "                    company_url = contents[0].find_element('tag name', 'a').get_attribute('href')\n",
    "            \n",
    "                    if company_url[-6:] == '/life/':\n",
    "                        company_url = company_url[:-5]\n",
    "    \n",
    "                    info['Company URL'] = company_url\n",
    "\n",
    "                except NoSuchElementException:\n",
    "                    info['Company URL'] = \"N/A\"\n",
    "        \n",
    "                try:\n",
    "                    info['Company Name'] = contents[0].find_element('class name', 'jobs-unified-top-card__company-name').text\n",
    "\n",
    "                except NoSuchElementException:\n",
    "                    info['Company Name'] = \"N/A\"\n",
    "            \n",
    "                try:\n",
    "                    info['Company Location'] = contents[0].find_element('class name', 'jobs-unified-top-card__bullet').text\n",
    "\n",
    "                except NoSuchElementException:\n",
    "                    info['Company Location'] = \"N/A\"\n",
    "\n",
    "                try:\n",
    "                    info['Workplace Type'] = contents[0].find_element('class name', 'jobs-unified-top-card__workplace-type').text\n",
    "\n",
    "                except NoSuchElementException:\n",
    "                    info['Workplace Type'] = \"N/A\"\n",
    "            \n",
    "                try:\n",
    "                    spans = contents[0].find_elements('tag name', 'span') \n",
    "                    info['Company Size'] = list(filter(lambda info : 'employees' in info.text, spans))[0].text.split(\" · \")[0]\n",
    "\n",
    "                except NoSuchElementException:\n",
    "                    info['Company Size'] = \"N/A\"\n",
    "            \n",
    "                job_infos.append(info)\n",
    "                current_index = shuffled_df[shuffled_df['0'] == link].index[0] \n",
    "                print(f\"{current_index}. {info}\")\n",
    "                shuffled_df.drop(current_index, inplace=True)\n",
    "\n",
    "            except IndexError as e:\n",
    "                print(e)\n",
    "        \n",
    "    else:\n",
    "        print(\"No content found\")"
   ]
  },
  {
   "cell_type": "code",
   "execution_count": 10,
   "id": "6ad0d384-a8a8-4526-a628-270efcf7f96b",
   "metadata": {},
   "outputs": [],
   "source": [
    "job_infos = []"
   ]
  },
  {
   "cell_type": "code",
   "execution_count": 11,
   "id": "48f89451-4d77-4dcd-bf67-e2167fd1e8d9",
   "metadata": {},
   "outputs": [],
   "source": [
    "shuffled_df = links_df.sample(frac=1, axis=1).sample(frac=1).reset_index(drop=True)"
   ]
  },
  {
   "cell_type": "code",
   "execution_count": 12,
   "id": "a1df0634-78d9-4d00-ae05-394288adf4f2",
   "metadata": {
    "tags": []
   },
   "outputs": [
    {
     "name": "stdout",
     "output_type": "stream",
     "text": [
      "Waiting 4 seconds\n",
      "\n",
      "list index out of range\n"
     ]
    }
   ],
   "source": [
    "# Saving info to list\n",
    "links_df['Output'] = shuffled_df['0'].apply(collect_info)"
   ]
  },
  {
   "cell_type": "code",
   "execution_count": 13,
   "id": "81ac05cf-403a-430d-926d-78fb2b9d23c3",
   "metadata": {},
   "outputs": [
    {
     "data": {
      "text/plain": [
       "47"
      ]
     },
     "execution_count": 13,
     "metadata": {},
     "output_type": "execute_result"
    }
   ],
   "source": [
    "len(job_infos)"
   ]
  },
  {
   "cell_type": "code",
   "execution_count": 14,
   "id": "0e16d589-f782-4470-bced-5ac8bfa82dee",
   "metadata": {},
   "outputs": [
    {
     "data": {
      "text/plain": [
       "(20, 1)"
      ]
     },
     "execution_count": 14,
     "metadata": {},
     "output_type": "execute_result"
    }
   ],
   "source": [
    "shuffled_df.shape"
   ]
  },
  {
   "cell_type": "code",
   "execution_count": 15,
   "id": "071f51ce-67d7-4fb3-81c3-83b5a11252b8",
   "metadata": {},
   "outputs": [],
   "source": [
    "# Save any remaining links for future use\n",
    "if shuffled_df.shape[0] > 0:\n",
    "    shuffled_df.to_csv('remaining_links/' + file_name.split('/')[1], index=False)"
   ]
  },
  {
   "cell_type": "code",
   "execution_count": 16,
   "id": "d1939f6c-1a2f-479d-8878-0a4b9694533d",
   "metadata": {},
   "outputs": [],
   "source": [
    "output_df = pd.DataFrame(job_infos)"
   ]
  },
  {
   "cell_type": "code",
   "execution_count": 17,
   "id": "12875a96-b876-4e84-aa49-b754fbf4d797",
   "metadata": {},
   "outputs": [
    {
     "name": "stdout",
     "output_type": "stream",
     "text": [
      "Enter keyword:  network engineer\n"
     ]
    }
   ],
   "source": [
    "keyword = input(\"Enter keyword: \")"
   ]
  },
  {
   "cell_type": "code",
   "execution_count": 18,
   "id": "ff44315a-fcbf-4f83-8f72-83bf396de219",
   "metadata": {},
   "outputs": [],
   "source": [
    "output_df['Query'] = keyword"
   ]
  },
  {
   "cell_type": "code",
   "execution_count": 19,
   "id": "0aeb14a4-8b9f-47eb-9f26-b85a28abc0d3",
   "metadata": {},
   "outputs": [
    {
     "data": {
      "text/html": [
       "<div>\n",
       "<style scoped>\n",
       "    .dataframe tbody tr th:only-of-type {\n",
       "        vertical-align: middle;\n",
       "    }\n",
       "\n",
       "    .dataframe tbody tr th {\n",
       "        vertical-align: top;\n",
       "    }\n",
       "\n",
       "    .dataframe thead th {\n",
       "        text-align: right;\n",
       "    }\n",
       "</style>\n",
       "<table border=\"1\" class=\"dataframe\">\n",
       "  <thead>\n",
       "    <tr style=\"text-align: right;\">\n",
       "      <th></th>\n",
       "      <th>Job Title</th>\n",
       "      <th>Job Posting Link</th>\n",
       "      <th>Company URL</th>\n",
       "      <th>Company Name</th>\n",
       "      <th>Company Location</th>\n",
       "      <th>Workplace Type</th>\n",
       "      <th>Company Size</th>\n",
       "      <th>Query</th>\n",
       "    </tr>\n",
       "  </thead>\n",
       "  <tbody>\n",
       "    <tr>\n",
       "      <th>0</th>\n",
       "      <td>Network Engineer - Cisco/Juniper</td>\n",
       "      <td>https://www.linkedin.com/jobs/view/3420233543/...</td>\n",
       "      <td>https://www.linkedin.com/company/webeltek/</td>\n",
       "      <td>Webeltek</td>\n",
       "      <td>Greater Kolkata Area</td>\n",
       "      <td>On-site</td>\n",
       "      <td>11-50 employees</td>\n",
       "      <td>network engineer</td>\n",
       "    </tr>\n",
       "    <tr>\n",
       "      <th>1</th>\n",
       "      <td>Network Engineer</td>\n",
       "      <td>https://www.linkedin.com/jobs/view/3404891994/...</td>\n",
       "      <td>https://www.linkedin.com/company/net-tech-grou...</td>\n",
       "      <td>Net Tech Group Inc</td>\n",
       "      <td>Mumbai, Maharashtra, India</td>\n",
       "      <td>On-site</td>\n",
       "      <td>1-10 employees</td>\n",
       "      <td>network engineer</td>\n",
       "    </tr>\n",
       "    <tr>\n",
       "      <th>2</th>\n",
       "      <td>Network Engineer</td>\n",
       "      <td>https://www.linkedin.com/jobs/view/3442307739/...</td>\n",
       "      <td>https://www.linkedin.com/company/deutsche-bank/</td>\n",
       "      <td>Deutsche Bank</td>\n",
       "      <td>Pune, Maharashtra, India</td>\n",
       "      <td>On-site</td>\n",
       "      <td>10,001+ employees</td>\n",
       "      <td>network engineer</td>\n",
       "    </tr>\n",
       "    <tr>\n",
       "      <th>3</th>\n",
       "      <td>Network Engineer II</td>\n",
       "      <td>https://www.linkedin.com/jobs/view/3442885015/...</td>\n",
       "      <td>https://www.linkedin.com/company/stefanini/</td>\n",
       "      <td>Stefanini Group</td>\n",
       "      <td>Hyderabad, Telangana, India</td>\n",
       "      <td>On-site</td>\n",
       "      <td>10,001+ employees</td>\n",
       "      <td>network engineer</td>\n",
       "    </tr>\n",
       "    <tr>\n",
       "      <th>4</th>\n",
       "      <td>Systems Engineer - Oracle PL/SQL(1-2 years) - ...</td>\n",
       "      <td>https://www.linkedin.com/jobs/view/3418192007/...</td>\n",
       "      <td>https://www.linkedin.com/company/infosys/</td>\n",
       "      <td>Infosys</td>\n",
       "      <td>Sahibzada Ajit Singh Nagar, Punjab, India</td>\n",
       "      <td>Hybrid</td>\n",
       "      <td>10,001+ employees</td>\n",
       "      <td>network engineer</td>\n",
       "    </tr>\n",
       "  </tbody>\n",
       "</table>\n",
       "</div>"
      ],
      "text/plain": [
       "                                           Job Title  \\\n",
       "0                   Network Engineer - Cisco/Juniper   \n",
       "1                                   Network Engineer   \n",
       "2                                   Network Engineer   \n",
       "3                                Network Engineer II   \n",
       "4  Systems Engineer - Oracle PL/SQL(1-2 years) - ...   \n",
       "\n",
       "                                    Job Posting Link  \\\n",
       "0  https://www.linkedin.com/jobs/view/3420233543/...   \n",
       "1  https://www.linkedin.com/jobs/view/3404891994/...   \n",
       "2  https://www.linkedin.com/jobs/view/3442307739/...   \n",
       "3  https://www.linkedin.com/jobs/view/3442885015/...   \n",
       "4  https://www.linkedin.com/jobs/view/3418192007/...   \n",
       "\n",
       "                                         Company URL        Company Name  \\\n",
       "0         https://www.linkedin.com/company/webeltek/            Webeltek   \n",
       "1  https://www.linkedin.com/company/net-tech-grou...  Net Tech Group Inc   \n",
       "2    https://www.linkedin.com/company/deutsche-bank/       Deutsche Bank   \n",
       "3        https://www.linkedin.com/company/stefanini/     Stefanini Group   \n",
       "4          https://www.linkedin.com/company/infosys/             Infosys   \n",
       "\n",
       "                            Company Location Workplace Type  \\\n",
       "0                       Greater Kolkata Area        On-site   \n",
       "1                 Mumbai, Maharashtra, India        On-site   \n",
       "2                   Pune, Maharashtra, India        On-site   \n",
       "3                Hyderabad, Telangana, India        On-site   \n",
       "4  Sahibzada Ajit Singh Nagar, Punjab, India         Hybrid   \n",
       "\n",
       "        Company Size             Query  \n",
       "0    11-50 employees  network engineer  \n",
       "1     1-10 employees  network engineer  \n",
       "2  10,001+ employees  network engineer  \n",
       "3  10,001+ employees  network engineer  \n",
       "4  10,001+ employees  network engineer  "
      ]
     },
     "execution_count": 19,
     "metadata": {},
     "output_type": "execute_result"
    }
   ],
   "source": [
    "output_df.head()"
   ]
  },
  {
   "cell_type": "code",
   "execution_count": 20,
   "id": "3abee78b-80b3-49fb-aeb9-0b05dfb096c5",
   "metadata": {},
   "outputs": [
    {
     "data": {
      "text/plain": [
       "(47, 8)"
      ]
     },
     "execution_count": 20,
     "metadata": {},
     "output_type": "execute_result"
    }
   ],
   "source": [
    "output_df.shape"
   ]
  },
  {
   "cell_type": "code",
   "execution_count": 22,
   "id": "69f3724e-04f2-4199-8266-4c0e2a9c638a",
   "metadata": {},
   "outputs": [
    {
     "data": {
      "text/plain": [
       "'network_engineer'"
      ]
     },
     "execution_count": 22,
     "metadata": {},
     "output_type": "execute_result"
    }
   ],
   "source": [
    "keyword.replace(' ', '_')"
   ]
  },
  {
   "cell_type": "code",
   "execution_count": 23,
   "id": "8b89db54-add7-43c5-91fb-ee53612f4dfe",
   "metadata": {},
   "outputs": [],
   "source": [
    "output_file = f\"output_info/{keyword.replace(' ', '_')}.csv\""
   ]
  },
  {
   "cell_type": "code",
   "execution_count": 24,
   "id": "c66b3699-c335-43c7-a460-f2f69b35fc90",
   "metadata": {},
   "outputs": [
    {
     "data": {
      "text/plain": [
       "'output_info/network_engineer.csv'"
      ]
     },
     "execution_count": 24,
     "metadata": {},
     "output_type": "execute_result"
    }
   ],
   "source": [
    "output_file"
   ]
  },
  {
   "cell_type": "code",
   "execution_count": 25,
   "id": "1157b0ed-3f22-4a8e-8924-13ac084d93d4",
   "metadata": {},
   "outputs": [
    {
     "name": "stdout",
     "output_type": "stream",
     "text": [
      "(237, 8)\n"
     ]
    }
   ],
   "source": [
    "if os.path.isfile(output_file):\n",
    "    df = pd.read_csv(output_file)\n",
    "    print(df.shape)\n",
    "    output_df = pd.concat([df, output_df])"
   ]
  },
  {
   "cell_type": "code",
   "execution_count": 26,
   "id": "98bdae9c-cf56-4072-92c0-0cc8756d2c09",
   "metadata": {},
   "outputs": [
    {
     "data": {
      "text/plain": [
       "(284, 8)"
      ]
     },
     "execution_count": 26,
     "metadata": {},
     "output_type": "execute_result"
    }
   ],
   "source": [
    "output_df.shape"
   ]
  },
  {
   "cell_type": "code",
   "execution_count": 27,
   "id": "8d4c9bad-fca0-4138-b1df-c5b5f66c3680",
   "metadata": {},
   "outputs": [],
   "source": [
    "output_df.to_csv(output_file, index=False)"
   ]
  },
  {
   "cell_type": "code",
   "execution_count": null,
   "id": "ebcdcf46-2807-4a4c-9401-9cd73c4f8a25",
   "metadata": {},
   "outputs": [],
   "source": []
  }
 ],
 "metadata": {
  "kernelspec": {
   "display_name": "Python 3",
   "language": "python",
   "name": "python3"
  },
  "language_info": {
   "codemirror_mode": {
    "name": "ipython",
    "version": 3
   },
   "file_extension": ".py",
   "mimetype": "text/x-python",
   "name": "python",
   "nbconvert_exporter": "python",
   "pygments_lexer": "ipython3",
   "version": "3.11.1"
  },
  "vscode": {
   "interpreter": {
    "hash": "1a1af0ee75eeea9e2e1ee996c87e7a2b11a0bebd85af04bb136d915cefc0abce"
   }
  }
 },
 "nbformat": 4,
 "nbformat_minor": 5
}
