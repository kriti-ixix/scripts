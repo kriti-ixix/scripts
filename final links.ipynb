{
 "cells": [
  {
   "cell_type": "code",
   "execution_count": 67,
   "id": "29f0cb8f-4aca-4a78-a631-43738111a567",
   "metadata": {},
   "outputs": [],
   "source": [
    "# Libraries\n",
    "import time\n",
    "import pandas as pd \n",
    "from random import randint\n",
    "from IPython.display import clear_output\n",
    "\n",
    "import selenium\n",
    "from selenium import webdriver\n",
    "from selenium.webdriver.common.by import By\n",
    "from selenium.webdriver.support.ui import WebDriverWait\n",
    "from selenium.webdriver.support import expected_conditions as EC\n",
    "from selenium.webdriver.common.keys import Keys"
   ]
  },
  {
   "cell_type": "code",
   "execution_count": 2,
   "id": "04b46545-1f4a-41a3-aa13-ddf721b2589c",
   "metadata": {},
   "outputs": [
    {
     "name": "stderr",
     "output_type": "stream",
     "text": [
      "/var/folders/4y/pcdt74h51_x2zz4w3hlpvzxh0000gn/T/ipykernel_29356/660491345.py:3: DeprecationWarning: executable_path has been deprecated, please pass in a Service object\n",
      "  driver = webdriver.Chrome(path)\n"
     ]
    }
   ],
   "source": [
    "# Driver path\n",
    "path = '/Users/kritixblaze/Developer/chromedriver_mac64/chromedriver'\n",
    "driver = webdriver.Chrome(path)"
   ]
  },
  {
   "cell_type": "code",
   "execution_count": null,
   "id": "f9a2883c",
   "metadata": {},
   "outputs": [],
   "source": [
    "# Login credentials\n",
    "\n",
    "with open('config.txt', 'r') as file:\n",
    "    email, password = file.readlines()"
   ]
  },
  {
   "cell_type": "code",
   "execution_count": 3,
   "id": "09c1bb20-3ade-4d18-9980-5f7c00be9a17",
   "metadata": {},
   "outputs": [],
   "source": [
    "# Maximize Window\n",
    "driver.minimize_window()  \n",
    "driver.switch_to.window(driver.current_window_handle)\n",
    "driver.implicitly_wait(10)"
   ]
  },
  {
   "cell_type": "code",
   "execution_count": 4,
   "id": "901a64e5-84c1-49da-b197-7b940217e864",
   "metadata": {},
   "outputs": [],
   "source": [
    "# Enter to the site\n",
    "driver.get('https://www.linkedin.com/login')\n",
    "time.sleep(2)\n",
    "\n",
    "# User Credentials\n",
    "driver.find_element('xpath', '//*[@id=\"username\"]').send_keys(email[:-1])\n",
    "driver.find_element('xpath', '//*[@id=\"password\"]').send_keys(password)\n",
    "time.sleep(1)"
   ]
  },
  {
   "cell_type": "code",
   "execution_count": 5,
   "id": "1bb670f0-8523-4895-b402-38b1d4d4ce0f",
   "metadata": {},
   "outputs": [],
   "source": [
    "# Login button\n",
    "driver.find_element('xpath', '//*[@id=\"organic-div\"]/form/div[3]/button').click()\n",
    "driver.implicitly_wait(30)"
   ]
  },
  {
   "cell_type": "code",
   "execution_count": 6,
   "id": "7f3ea973-09a0-4653-93eb-219f18d6979b",
   "metadata": {},
   "outputs": [],
   "source": [
    "# Jobs page\n",
    "# driver.find_element('xpath', '//*[@id=\"ember19\"]').click()\n",
    "driver.find_element('xpath', '//*[@id=\"global-nav\"]/div/nav/ul/li[3]/a').click()\n",
    "time.sleep(3)"
   ]
  },
  {
   "cell_type": "code",
   "execution_count": 97,
   "id": "82733982-96fe-406e-8659-d665a0cacdff",
   "metadata": {},
   "outputs": [
    {
     "name": "stdout",
     "output_type": "stream",
     "text": [
      "Enter keywords:  qa tester\n"
     ]
    }
   ],
   "source": [
    "# Keyword\n",
    "keywords = input(\"Enter keywords: \").lower()"
   ]
  },
  {
   "cell_type": "code",
   "execution_count": 98,
   "id": "430d6ee3-cb38-4ed2-88a1-260572944fef",
   "metadata": {},
   "outputs": [],
   "source": [
    "keywords = keywords.strip().replace(\" \", \"%20\")"
   ]
  },
  {
   "cell_type": "code",
   "execution_count": 99,
   "id": "06442422-2dbb-434d-8546-525b133174e0",
   "metadata": {},
   "outputs": [],
   "source": [
    "link = f\"https://www.linkedin.com/jobs/search/?keywords={keywords}&location=India&f_E=2\""
   ]
  },
  {
   "cell_type": "code",
   "execution_count": 100,
   "id": "b4d5cede-4b87-436f-9f6a-26f16c109b15",
   "metadata": {},
   "outputs": [
    {
     "data": {
      "text/plain": [
       "'https://www.linkedin.com/jobs/search/?keywords=qa%20tester&location=India&f_E=2'"
      ]
     },
     "execution_count": 100,
     "metadata": {},
     "output_type": "execute_result"
    }
   ],
   "source": [
    "link"
   ]
  },
  {
   "cell_type": "code",
   "execution_count": 101,
   "id": "ab766904-4519-4f92-a6e1-eb0a972528a1",
   "metadata": {},
   "outputs": [],
   "source": [
    "driver.get(link)\n",
    "time.sleep(1)"
   ]
  },
  {
   "cell_type": "code",
   "execution_count": 102,
   "id": "977ebf3d-5735-4ebe-bab0-57efbf0b0c04",
   "metadata": {},
   "outputs": [
    {
     "name": "stdout",
     "output_type": "stream",
     "text": [
      "Collecting the links in the page: 13\n"
     ]
    }
   ],
   "source": [
    "links = []\n",
    "print(\"Collecting links...\")\n",
    "\n",
    "try:\n",
    "    for page in range(2, 15):\n",
    "        time.sleep(randint(1, 4))\n",
    "        jobs_block = driver.find_element('xpath', '//*[@id=\"main\"]/div/section[1]/div/ul')\n",
    "        jobs_list= jobs_block.find_elements(By.CSS_SELECTOR, '.jobs-search-results__list-item')\n",
    "    \n",
    "        for job in jobs_list:\n",
    "            all_links = job.find_elements('tag name', 'a')\n",
    "            for a in all_links:\n",
    "                if str(a.get_attribute('href')).startswith(\"https://www.linkedin.com/jobs/view\") and a.get_attribute('href') not in links: \n",
    "                    links.append(a.get_attribute('href'))\n",
    "                else:\n",
    "                    pass\n",
    "            # scroll down for each job element\n",
    "            driver.execute_script(\"arguments[0].scrollIntoView();\", job)\n",
    "        \n",
    "        clear_output(wait=True)\n",
    "        print(f'Collecting the links in the page: {page-1}')\n",
    "        # go to next page:\n",
    "        driver.find_element('xpath', f\"//button[@aria-label='Page {page}']\").click()        \n",
    "\n",
    "except Exception as e:\n",
    "    print(str(e))"
   ]
  },
  {
   "cell_type": "code",
   "execution_count": 103,
   "id": "4f36b2db-4c91-45e6-8669-392f2945e205",
   "metadata": {},
   "outputs": [
    {
     "data": {
      "text/html": [
       "<div>\n",
       "<style scoped>\n",
       "    .dataframe tbody tr th:only-of-type {\n",
       "        vertical-align: middle;\n",
       "    }\n",
       "\n",
       "    .dataframe tbody tr th {\n",
       "        vertical-align: top;\n",
       "    }\n",
       "\n",
       "    .dataframe thead th {\n",
       "        text-align: right;\n",
       "    }\n",
       "</style>\n",
       "<table border=\"1\" class=\"dataframe\">\n",
       "  <thead>\n",
       "    <tr style=\"text-align: right;\">\n",
       "      <th></th>\n",
       "      <th>0</th>\n",
       "    </tr>\n",
       "  </thead>\n",
       "  <tbody>\n",
       "    <tr>\n",
       "      <th>0</th>\n",
       "      <td>https://www.linkedin.com/jobs/view/3423104283/...</td>\n",
       "    </tr>\n",
       "    <tr>\n",
       "      <th>1</th>\n",
       "      <td>https://www.linkedin.com/jobs/view/3422999705/...</td>\n",
       "    </tr>\n",
       "    <tr>\n",
       "      <th>2</th>\n",
       "      <td>https://www.linkedin.com/jobs/view/3348013200/...</td>\n",
       "    </tr>\n",
       "    <tr>\n",
       "      <th>3</th>\n",
       "      <td>https://www.linkedin.com/jobs/view/3442837302/...</td>\n",
       "    </tr>\n",
       "    <tr>\n",
       "      <th>4</th>\n",
       "      <td>https://www.linkedin.com/jobs/view/3337878939/...</td>\n",
       "    </tr>\n",
       "  </tbody>\n",
       "</table>\n",
       "</div>"
      ],
      "text/plain": [
       "                                                   0\n",
       "0  https://www.linkedin.com/jobs/view/3423104283/...\n",
       "1  https://www.linkedin.com/jobs/view/3422999705/...\n",
       "2  https://www.linkedin.com/jobs/view/3348013200/...\n",
       "3  https://www.linkedin.com/jobs/view/3442837302/...\n",
       "4  https://www.linkedin.com/jobs/view/3337878939/..."
      ]
     },
     "execution_count": 103,
     "metadata": {},
     "output_type": "execute_result"
    }
   ],
   "source": [
    "df = pd.DataFrame(links)\n",
    "df.head()"
   ]
  },
  {
   "cell_type": "code",
   "execution_count": 104,
   "id": "8034f4da-f924-44d3-80b7-994c44c63f16",
   "metadata": {},
   "outputs": [
    {
     "data": {
      "text/plain": [
       "(321, 1)"
      ]
     },
     "execution_count": 104,
     "metadata": {},
     "output_type": "execute_result"
    }
   ],
   "source": [
    "df.shape"
   ]
  },
  {
   "cell_type": "code",
   "execution_count": 105,
   "id": "709c4615-d3b5-4d47-9c20-00ab15d8d482",
   "metadata": {},
   "outputs": [],
   "source": [
    "filename = \"links/\" + keywords.replace(\"%20\", \"_\") + \"_offers.csv\""
   ]
  },
  {
   "cell_type": "code",
   "execution_count": 106,
   "id": "015f2f1f-d0da-4144-b1ce-5cf5b57b5cd6",
   "metadata": {},
   "outputs": [
    {
     "data": {
      "text/plain": [
       "'links/qa_tester_offers.csv'"
      ]
     },
     "execution_count": 106,
     "metadata": {},
     "output_type": "execute_result"
    }
   ],
   "source": [
    "filename"
   ]
  },
  {
   "cell_type": "code",
   "execution_count": 107,
   "id": "5f347c55-d955-4a84-a7b1-9e67ef04d126",
   "metadata": {},
   "outputs": [],
   "source": [
    "# Storing the data to csv file\n",
    "df.to_csv(filename, index=False)"
   ]
  },
  {
   "cell_type": "code",
   "execution_count": null,
   "id": "230d1563-aeba-4cef-9759-a8f459adf09c",
   "metadata": {},
   "outputs": [],
   "source": []
  }
 ],
 "metadata": {
  "kernelspec": {
   "display_name": "Python 3",
   "language": "python",
   "name": "python3"
  },
  "language_info": {
   "codemirror_mode": {
    "name": "ipython",
    "version": 3
   },
   "file_extension": ".py",
   "mimetype": "text/x-python",
   "name": "python",
   "nbconvert_exporter": "python",
   "pygments_lexer": "ipython3",
   "version": "3.11.1"
  },
  "vscode": {
   "interpreter": {
    "hash": "1a1af0ee75eeea9e2e1ee996c87e7a2b11a0bebd85af04bb136d915cefc0abce"
   }
  }
 },
 "nbformat": 4,
 "nbformat_minor": 5
}
